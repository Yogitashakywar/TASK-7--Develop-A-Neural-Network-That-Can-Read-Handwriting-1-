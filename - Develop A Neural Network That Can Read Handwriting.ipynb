{
 "cells": [
  {
   "cell_type": "markdown",
   "id": "b20aaa28",
   "metadata": {},
   "source": [
    "# LetsGrowMore (LGMVIP) - \"DATA SCIENCE INTERN\"\n"
   ]
  },
  {
   "cell_type": "markdown",
   "id": "9ad5efc2",
   "metadata": {},
   "source": [
    "### LGMVIP April-2022\n",
    "### Advanced Level Task\n"
   ]
  },
  {
   "cell_type": "markdown",
   "id": "fb5f65e4",
   "metadata": {},
   "source": [
    "### AUTHOR :- Sachinkumar Ganesh Navgale\n"
   ]
  },
  {
   "cell_type": "markdown",
   "id": "d9a83772",
   "metadata": {},
   "source": [
    "### TASK-7- Develop A Neural Network That Can Read Handwriting :"
   ]
  },
  {
   "cell_type": "markdown",
   "id": "6df8d25a",
   "metadata": {},
   "source": [
    "Begin my neural network machine learning project with the MNIST Handwritten Digit Classification Challenge and using Tensorflow and CNN. It has a very user-friendly interface that’s ideal for beginners."
   ]
  },
  {
   "cell_type": "markdown",
   "id": "df320033",
   "metadata": {},
   "source": [
    "Dataset link : https://en.wikipedia.org/wiki/MNIST_database"
   ]
  },
  {
   "cell_type": "markdown",
   "id": "1888258f",
   "metadata": {},
   "source": [
    "### Importing Libraries"
   ]
  },
  {
   "cell_type": "code",
   "execution_count": 1,
   "id": "392f9ff4",
   "metadata": {},
   "outputs": [],
   "source": [
    "import tensorflow as tf\n",
    "import numpy as np\n",
    "from matplotlib import pyplot as plt\n",
    "import seaborn as sns"
   ]
  },
  {
   "cell_type": "markdown",
   "id": "bd29b860",
   "metadata": {},
   "source": [
    "### Loading dataset"
   ]
  },
  {
   "cell_type": "code",
   "execution_count": 2,
   "id": "5f73cc15",
   "metadata": {},
   "outputs": [],
   "source": [
    "(x_train,y_train),(x_test,y_test)=tf.keras.datasets.mnist.load_data()"
   ]
  },
  {
   "cell_type": "markdown",
   "id": "0e081c9d",
   "metadata": {},
   "source": [
    "### Plotting count plot"
   ]
  },
  {
   "cell_type": "code",
   "execution_count": 3,
   "id": "bab7e067",
   "metadata": {},
   "outputs": [
    {
     "name": "stderr",
     "output_type": "stream",
     "text": [
      "C:\\Users\\sachi\\anaconda3\\lib\\site-packages\\seaborn\\_decorators.py:36: FutureWarning: Pass the following variable as a keyword arg: x. From version 0.12, the only valid positional argument will be `data`, and passing other arguments without an explicit keyword will result in an error or misinterpretation.\n",
      "  warnings.warn(\n"
     ]
    },
    {
     "data": {
      "text/plain": [
       "<AxesSubplot:ylabel='count'>"
      ]
     },
     "execution_count": 3,
     "metadata": {},
     "output_type": "execute_result"
    },
    {
     "data": {
      "image/png": "[encoded data removed]",
      "text/plain": [
       "<Figure size 720x576 with 1 Axes>"
      ]
     },
     "metadata": {
      "needs_background": "light"
     },
     "output_type": "display_data"
    }
   ],
   "source": [
    "plt.figure(figsize = (10,8))\n",
    "sns.countplot(y_train)"
   ]
  },
  {
   "cell_type": "markdown",
   "id": "044ba0ef",
   "metadata": {},
   "source": [
    "### Displaying some images"
   ]
  },
  {
   "cell_type": "code",
   "execution_count": 4,
   "id": "e9a28dc3",
   "metadata": {},
   "outputs": [
    {
     "data": {
      "image/png": "[encoded data removed]",
      "text/plain": [
       "<Figure size 720x288 with 5 Axes>"
      ]
     },
     "metadata": {
      "needs_background": "light"
     },
     "output_type": "display_data"
    }
   ],
   "source": [
    "fig, axes = plt.subplots(ncols=5, sharex=False, \n",
    "    sharey=True, figsize=(10, 4))\n",
    "for i in range(5):\n",
    "    axes[i].set_title(y_train[i])\n",
    "    axes[i].imshow(x_train[i], cmap='gray_r')\n",
    "    axes[i].get_xaxis().set_visible(False)\n",
    "    axes[i].get_yaxis().set_visible(False)\n",
    "plt.show()"
   ]
  },
  {
   "cell_type": "markdown",
   "id": "8a06fb4b",
   "metadata": {},
   "source": [
    "### Pre-processing the data"
   ]
  },
  {
   "cell_type": "code",
   "execution_count": 5,
   "id": "f58c4196",
   "metadata": {},
   "outputs": [
    {
     "name": "stdout",
     "output_type": "stream",
     "text": [
      "Training images shape :  (60000, 28, 28)\n",
      "Testing images shape :  (10000, 28, 28)\n"
     ]
    }
   ],
   "source": [
    "print('Training images shape : ',x_train.shape)\n",
    "print('Testing images shape : ',x_test.shape)"
   ]
  },
  {
   "cell_type": "code",
   "execution_count": 6,
   "id": "86f8c88c",
   "metadata": {},
   "outputs": [],
   "source": [
    "x_train = x_train.reshape(x_train.shape[0], 28, 28, 1)\n",
    "x_test = x_test.reshape(x_test.shape[0], 28, 28, 1)\n",
    "input_shape = (28, 28, 1)"
   ]
  },
  {
   "cell_type": "code",
   "execution_count": 7,
   "id": "a9dc385f",
   "metadata": {},
   "outputs": [],
   "source": [
    "x_train=x_train/255.0\n",
    "x_testg=x_test/255.0\n",
    "num_classes = 10"
   ]
  },
  {
   "cell_type": "markdown",
   "id": "59b5d938",
   "metadata": {},
   "source": [
    "### Creating the model"
   ]
  },
  {
   "cell_type": "markdown",
   "id": "b41b0857",
   "metadata": {},
   "source": [
    "#### Model Architecture"
   ]
  },
  {
   "cell_type": "markdown",
   "id": "3c77c21f",
   "metadata": {},
   "source": [
    "We will have to first build the model architecture and define it based on our dataset. We are going to add the following layers:\n",
    "    1. Conv2D - for the convolution layers\n",
    "    \n",
    "    2. Dropout - to prevent overfitting\n",
    "    \n",
    "    3. Dense - a fully connected layer\n",
    "    \n",
    "    4. Softmax activation - This is used to convert all predictions into probability The model architecture can be tuned to get optimal performance\n",
    "    \n",
    "    so i am goimg to create a model with\n",
    "\n",
    "\n",
    "\n",
    "\n",
    "\n"
   ]
  },
  {
   "cell_type": "markdown",
   "id": "0f1218f6",
   "metadata": {},
   "source": [
    "### CNN + Three layers + relu + (3,3) kernel_size + Dropout rate (0.3)"
   ]
  },
  {
   "cell_type": "code",
   "execution_count": 8,
   "id": "53b6a90d",
   "metadata": {},
   "outputs": [],
   "source": [
    "from tensorflow.keras.models import Sequential\n",
    "from tensorflow.keras.layers import Dense, Dropout, Flatten,Activation\n",
    "from tensorflow.keras.layers import Conv2D,MaxPooling2D\n",
    "from tensorflow.keras.layers import BatchNormalization"
   ]
  },
  {
   "cell_type": "code",
   "execution_count": 9,
   "id": "887ce853",
   "metadata": {},
   "outputs": [],
   "source": [
    "model = Sequential()\n",
    "\n",
    "model.add(Conv2D(128, kernel_size=(3, 3),\n",
    "                 activation=tf.nn.relu,\n",
    "                 input_shape=input_shape))\n",
    "model.add(BatchNormalization())\n",
    "model.add(Dropout(0.3))\n",
    "\n",
    "model.add(Conv2D(64, (3, 3), activation=tf.nn.relu))\n",
    "model.add(BatchNormalization())\n",
    "model.add(Dropout(0.3))\n",
    "\n",
    "model.add(Conv2D(32, (3, 3), activation=tf.nn.relu))\n",
    "model.add(BatchNormalization())\n",
    "model.add(Dropout(0.3))\n",
    "\n",
    "\n",
    "model.add(MaxPooling2D(pool_size=(2, 2)))\n",
    "model.add(Dropout(0.3))\n",
    "model.add(Flatten())\n",
    "model.add(Dense(128, activation=tf.nn.relu))\n",
    "model.add(Dropout(0.3))\n",
    "model.add(Dense(num_classes, activation=tf.nn.softmax))"
   ]
  },
  {
   "cell_type": "code",
   "execution_count": 10,
   "id": "aee7db2a",
   "metadata": {},
   "outputs": [
    {
     "name": "stdout",
     "output_type": "stream",
     "text": [
      "Model: \"sequential\"\n",
      "_________________________________________________________________\n",
      " Layer (type)                Output Shape              Param #   \n",
      "=================================================================\n",
      " conv2d (Conv2D)             (None, 26, 26, 128)       1280      \n",
      "                                                                 \n",
      " batch_normalization (BatchN  (None, 26, 26, 128)      512       \n",
      " ormalization)                                                   \n",
      "                                                                 \n",
      " dropout (Dropout)           (None, 26, 26, 128)       0         \n",
      "                                                                 \n",
      " conv2d_1 (Conv2D)           (None, 24, 24, 64)        73792     \n",
      "                                                                 \n",
      " batch_normalization_1 (Batc  (None, 24, 24, 64)       256       \n",
      " hNormalization)                                                 \n",
      "                                                                 \n",
      " dropout_1 (Dropout)         (None, 24, 24, 64)        0         \n",
      "                                                                 \n",
      " conv2d_2 (Conv2D)           (None, 22, 22, 32)        18464     \n",
      "                                                                 \n",
      " batch_normalization_2 (Batc  (None, 22, 22, 32)       128       \n",
      " hNormalization)                                                 \n",
      "                                                                 \n",
      " dropout_2 (Dropout)         (None, 22, 22, 32)        0         \n",
      "                                                                 \n",
      " max_pooling2d (MaxPooling2D  (None, 11, 11, 32)       0         \n",
      " )                                                               \n",
      "                                                                 \n",
      " dropout_3 (Dropout)         (None, 11, 11, 32)        0         \n",
      "                                                                 \n",
      " flatten (Flatten)           (None, 3872)              0         \n",
      "                                                                 \n",
      " dense (Dense)               (None, 128)               495744    \n",
      "                                                                 \n",
      " dropout_4 (Dropout)         (None, 128)               0         \n",
      "                                                                 \n",
      " dense_1 (Dense)             (None, 10)                1290      \n",
      "                                                                 \n",
      "=================================================================\n",
      "Total params: 591,466\n",
      "Trainable params: 591,018\n",
      "Non-trainable params: 448\n",
      "_________________________________________________________________\n"
     ]
    }
   ],
   "source": [
    "model.summary()"
   ]
  },
  {
   "cell_type": "markdown",
   "id": "62782e12",
   "metadata": {},
   "source": [
    "### Training the model"
   ]
  },
  {
   "cell_type": "code",
   "execution_count": 11,
   "id": "2125d056",
   "metadata": {},
   "outputs": [
    {
     "name": "stdout",
     "output_type": "stream",
     "text": [
      "Epoch 1/10\n",
      "1688/1688 [==============================] - 578s 342ms/step - loss: 0.2765 - accuracy: 0.9181 - val_loss: 0.0707 - val_accuracy: 0.9852\n",
      "Epoch 2/10\n",
      "1688/1688 [==============================] - 585s 346ms/step - loss: 0.1156 - accuracy: 0.9663 - val_loss: 0.0998 - val_accuracy: 0.9772\n",
      "Epoch 3/10\n",
      "1688/1688 [==============================] - 584s 346ms/step - loss: 0.0924 - accuracy: 0.9730 - val_loss: 0.0795 - val_accuracy: 0.9850\n",
      "Epoch 4/10\n",
      "1688/1688 [==============================] - 588s 348ms/step - loss: 0.0797 - accuracy: 0.9764 - val_loss: 0.1076 - val_accuracy: 0.9812\n",
      "Epoch 5/10\n",
      "1688/1688 [==============================] - 589s 349ms/step - loss: 0.0674 - accuracy: 0.9807 - val_loss: 0.1604 - val_accuracy: 0.9783\n",
      "Epoch 6/10\n",
      "1688/1688 [==============================] - 628s 372ms/step - loss: 0.0618 - accuracy: 0.9820 - val_loss: 0.0720 - val_accuracy: 0.9887\n",
      "Epoch 7/10\n",
      "1688/1688 [==============================] - 653s 387ms/step - loss: 0.0542 - accuracy: 0.9848 - val_loss: 0.1201 - val_accuracy: 0.9852\n",
      "Epoch 8/10\n",
      "1688/1688 [==============================] - 654s 388ms/step - loss: 0.0510 - accuracy: 0.9850 - val_loss: 0.1302 - val_accuracy: 0.9823\n",
      "Epoch 9/10\n",
      "1688/1688 [==============================] - 662s 392ms/step - loss: 0.0435 - accuracy: 0.9871 - val_loss: 0.1623 - val_accuracy: 0.9818\n",
      "Epoch 10/10\n",
      "1688/1688 [==============================] - 655s 388ms/step - loss: 0.0438 - accuracy: 0.9873 - val_loss: 0.1003 - val_accuracy: 0.9863\n"
     ]
    }
   ],
   "source": [
    "model.compile(optimizer='adam', \n",
    "              loss='sparse_categorical_crossentropy', \n",
    "              metrics=['accuracy'])\n",
    "history=model.fit(x=x_train,\n",
    "                  y=y_train,\n",
    "                  validation_split=0.1,\n",
    "                  epochs=10)"
   ]
  },
  {
   "cell_type": "markdown",
   "id": "fb767ffa",
   "metadata": {},
   "source": [
    "### Saving and loading the model"
   ]
  },
  {
   "cell_type": "code",
   "execution_count": 12,
   "id": "1755013b",
   "metadata": {},
   "outputs": [],
   "source": [
    "model.save('MNproject.h5')"
   ]
  },
  {
   "cell_type": "code",
   "execution_count": 13,
   "id": "0d5d7735",
   "metadata": {},
   "outputs": [],
   "source": [
    "from tensorflow.keras.models import load_model\n",
    "model = load_model('MNproject.h5')"
   ]
  },
  {
   "cell_type": "markdown",
   "id": "a42fceaa",
   "metadata": {},
   "source": [
    "### Evaluating the model"
   ]
  },
  {
   "cell_type": "code",
   "execution_count": 14,
   "id": "7f2c7fe0",
   "metadata": {},
   "outputs": [
    {
     "name": "stdout",
     "output_type": "stream",
     "text": [
      "313/313 [==============================] - 21s 66ms/step - loss: 5.5963 - accuracy: 0.9803\n",
      "Test Loss 5.596317768096924\n",
      "Test Accuracy 0.9803000092506409\n"
     ]
    }
   ],
   "source": [
    "loss_and_acc=model.evaluate(x_test,y_test)\n",
    "print(\"Test Loss\", loss_and_acc[0])\n",
    "print(\"Test Accuracy\", loss_and_acc[1])"
   ]
  },
  {
   "cell_type": "markdown",
   "id": "fcaf3e2f",
   "metadata": {},
   "source": [
    "### Plotting Training & Validation plots"
   ]
  },
  {
   "cell_type": "code",
   "execution_count": 15,
   "id": "492a3330",
   "metadata": {},
   "outputs": [
    {
     "data": {
      "image/png": "[encoded data removed]",
      "text/plain": [
       "<Figure size 1440x432 with 2 Axes>"
      ]
     },
     "metadata": {
      "needs_background": "light"
     },
     "output_type": "display_data"
    }
   ],
   "source": [
    "acc = history.history['accuracy']\n",
    "val_acc = history.history['val_accuracy']\n",
    "loss = history.history['loss']\n",
    "val_loss = history.history['val_loss']\n",
    "epochs = range(len(acc))\n",
    "\n",
    "fig, ax = plt.subplots(nrows=1, ncols=2, figsize=(20, 6))\n",
    "ax[0].plot(epochs, acc, 'y', label='Training accuracy')\n",
    "ax[0].plot(epochs, val_acc, 'g', label='Validation accuracy')\n",
    "ax[0].legend(loc=0)\n",
    "ax[1].plot(epochs, loss, 'y', label='Training loss')\n",
    "ax[1].plot(epochs, val_loss, 'g', label='Validation loss')\n",
    "ax[1].legend(loc=0)\n",
    "\n",
    "plt.suptitle('Training and validation')\n",
    "plt.show()"
   ]
  },
  {
   "cell_type": "code",
   "execution_count": 16,
   "id": "bdd47b63",
   "metadata": {},
   "outputs": [
    {
     "data": {
      "text/plain": [
       "<tf.Tensor: shape=(10, 10), dtype=int32, numpy=\n",
       "array([[ 977,    0,    0,    0,    0,    0,    2,    1,    0,    0],\n",
       "       [   2, 1108,   11,    0,    3,    1,    8,    2,    0,    0],\n",
       "       [   2,    0, 1024,    0,    2,    0,    0,    4,    0,    0],\n",
       "       [   0,    1,   10,  991,    0,    2,    0,    5,    1,    0],\n",
       "       [   0,    0,    0,    0,  981,    0,    0,    0,    1,    0],\n",
       "       [   0,    1,    1,    5,    0,  880,    1,    1,    3,    0],\n",
       "       [   2,    1,    2,    0,    2,    4,  944,    0,    3,    0],\n",
       "       [   0,    1,   11,    0,    6,    0,    0, 1009,    1,    0],\n",
       "       [   1,    0,    3,    0,    2,    1,    0,    0,  967,    0],\n",
       "       [   2,    0,    0,    0,   62,    5,    0,    1,   17,  922]])>"
      ]
     },
     "execution_count": 16,
     "metadata": {},
     "output_type": "execute_result"
    }
   ],
   "source": [
    "y_predicted = model.predict(x_test)\n",
    "y_predicted_labels = [np.argmax(i) for i in y_predicted]\n",
    "cm = tf.math.confusion_matrix(labels=y_test,predictions=y_predicted_labels)\n",
    "cm"
   ]
  },
  {
   "cell_type": "markdown",
   "id": "515b9278",
   "metadata": {},
   "source": [
    "### Plotting heat map"
   ]
  },
  {
   "cell_type": "code",
   "execution_count": 17,
   "id": "2a0a09dd",
   "metadata": {},
   "outputs": [
    {
     "data": {
      "text/plain": [
       "Text(69.0, 0.5, 'Truth')"
      ]
     },
     "execution_count": 17,
     "metadata": {},
     "output_type": "execute_result"
    },
    {
     "data": {
      "image/png": "[encoded data removed]",
      "text/plain": [
       "<Figure size 720x504 with 2 Axes>"
      ]
     },
     "metadata": {
      "needs_background": "light"
     },
     "output_type": "display_data"
    }
   ],
   "source": [
    "plt.figure(figsize = (10,7))\n",
    "sns.heatmap(cm, annot=True, fmt='d', cmap = 'coolwarm')\n",
    "plt.xlabel('Predicted')\n",
    "plt.ylabel('Truth')"
   ]
  },
  {
   "cell_type": "markdown",
   "id": "bcd8c94a",
   "metadata": {},
   "source": [
    "### Testing the Model\n"
   ]
  },
  {
   "cell_type": "code",
   "execution_count": 18,
   "id": "97a1dde1",
   "metadata": {},
   "outputs": [
    {
     "name": "stdout",
     "output_type": "stream",
     "text": [
      "Predicted Value:  9\n",
      "Successful prediction\n"
     ]
    },
    {
     "data": {
      "image/png": "[encoded data removed]",
      "text/plain": [
       "<Figure size 432x288 with 1 Axes>"
      ]
     },
     "metadata": {
      "needs_background": "light"
     },
     "output_type": "display_data"
    }
   ],
   "source": [
    "plt.imshow(x_test[7],cmap='gray_r')\n",
    "plt.title('Actual Value: {}'.format(y_test[7]))\n",
    "prediction=model.predict(x_test)\n",
    "\n",
    "plt.axis('off')\n",
    "print('Predicted Value: ',np.argmax(prediction[7]))\n",
    "if(y_test[7]==(np.argmax(prediction[7]))):\n",
    "  print('Successful prediction')\n",
    "else:\n",
    "  print('Unsuccessful prediction')"
   ]
  },
  {
   "cell_type": "code",
   "execution_count": 19,
   "id": "a39c459e",
   "metadata": {},
   "outputs": [
    {
     "name": "stdout",
     "output_type": "stream",
     "text": [
      "Predicted Value:  2\n",
      "Successful prediction\n"
     ]
    },
    {
     "data": {
      "image/png": "[encoded data removed]",
      "text/plain": [
       "<Figure size 432x288 with 1 Axes>"
      ]
     },
     "metadata": {
      "needs_background": "light"
     },
     "output_type": "display_data"
    }
   ],
   "source": [
    "plt.imshow(x_test[1],cmap='gray_r')\n",
    "plt.title('Actual Value: {}'.format(y_test[1]))\n",
    "prediction=model.predict(x_test)\n",
    "plt.axis('off')\n",
    "print('Predicted Value: ',np.argmax(prediction[1]))\n",
    "if(y_test[1]==(np.argmax(prediction[1]))):\n",
    "  print('Successful prediction')\n",
    "else:\n",
    "  print('Unsuccessful prediction')"
   ]
  },
  {
   "cell_type": "markdown",
   "id": "7f132c9f",
   "metadata": {},
   "source": [
    "### Thank You!"
   ]
  }
 ],
 "metadata": {
  "kernelspec": {
   "display_name": "Python 3 (ipykernel)",
   "language": "python",
   "name": "python3"
  },
  "language_info": {
   "codemirror_mode": {
    "name": "ipython",
    "version": 3
   },
   "file_extension": ".py",
   "mimetype": "text/x-python",
   "name": "python",
   "nbconvert_exporter": "python",
   "pygments_lexer": "ipython3",
   "version": "3.9.7"
  }
 },
 "nbformat": 4,
 "nbformat_minor": 5
}
